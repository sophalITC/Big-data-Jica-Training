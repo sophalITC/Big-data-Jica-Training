{
 "cells": [
  {
   "cell_type": "code",
   "execution_count": 1,
   "metadata": {},
   "outputs": [],
   "source": [
    "# this is an example of how to obtain normalizedDSM (nDSM) and DTM from DSM using the classDSM.py\n",
    "\n",
    "\n",
    "\n",
    "# regular libraries\n",
    "import numpy as np\n",
    "import math as math\n",
    "from matplotlib import pyplot as plt\n",
    "from scipy.interpolate import griddata\n",
    "import cv2 as cv\n",
    "\n",
    "# import library for reading raster images\n",
    "import rasterio as rio\n",
    "\n",
    "\n",
    "\n"
   ]
  },
  {
   "cell_type": "code",
   "execution_count": 2,
   "metadata": {},
   "outputs": [],
   "source": [
    "\n",
    "'''\n",
    " Following parameters can be set.\n",
    " \n",
    "        inputDSMpath = \"folder/inputfile.tif\"\n",
    "        outputnDSMpath = \"folder/outputfile.tif\"\n",
    "\n",
    "\n",
    "        # parameters/ thresholds\n",
    "        img_resolution = 30 # resolution in metres of a pixel\n",
    "        neighborhood_kernel = 300  # Extent of neighbors in metres: for 10m _ 200; for 30m - 3000\n",
    "\n",
    "        height_threshold = 3  # meter\n",
    "        slope_threshold = 30  # degrees using 30 degress for 30m as difficult to identify ground terrain otherwise\n",
    "\n",
    "        # 8 directions\n",
    "        obj.scanlines = [[-1, -1], [-1, 0], [-1, 1], [0, 1], [1, 1], [1, 0], [1, -1], [0, -1]]\n",
    "        obj.scannum = [0, 1, 2, 3, 4, 5, 6, 7]  # keyname for scanlines\n",
    "\n",
    "#ALthough the default parameters set have been tested in Yangon, they can be further refined else the used as it is.\n",
    "'''\n",
    "\n",
    "# Specify the parameters\n",
    "\n",
    "inputDSMpath = r\"G:\\My Drive\\geospatial_lab\\JICA-big-data-course\\kuala_lumpur\\N003E101\\ALPSMLC30_N003E101_DSM.tif\"\n",
    "outputnDSMpath = r\"G:\\My Drive\\geospatial_lab\\JICA-big-data-course\\kuala_lumpur\\N003E101\\ALPSMLC30_N003E101_nDSM.tif\"\n",
    "img_resolution = 30\n",
    "neighborhood_kernel = 300\n",
    "height_threshold = 3\n",
    "slope_threshold = 30"
   ]
  },
  {
   "cell_type": "code",
   "execution_count": null,
   "metadata": {},
   "outputs": [
    {
     "name": "stdout",
     "output_type": "stream",
     "text": [
      " Entered DSM2DTM scanline\n"
     ]
    }
   ],
   "source": [
    "# the real code is abstracted within classDSM_v2_20180705\n",
    "# ----------------------------------------------------------------------------------------------------\n",
    "\n",
    "\n",
    "#improt the classDSM\n",
    "from classDSM import DSMtrans as genDSM\n",
    "\n",
    "# open the AW3D raster stored in DSMpath as an array DSMarr.\n",
    "DSMpath = inputDSMpath\n",
    "DSMarr = rio.open(DSMpath).read(1)\n",
    "\n",
    "#set the DSMarr as an object of genDSM\n",
    "obj1 = genDSM(DSMarr)\n",
    "obj1.resolution = int(img_resolution)\n",
    "obj1.Ext = int(neighborhood_kernel)\n",
    "obj1.dThrHeightDiff = int(height_threshold)\n",
    "obj1.dThrSlope  = int(slope_threshold)\n",
    "\n",
    "#set the outpath\n",
    "nDSMpath = outputnDSMpath\n",
    "\n",
    "# running the ground function generates the DTM and nDSM arrays\n",
    "(DEMarr, nDSMarr) = obj1.ground()"
   ]
  },
  {
   "cell_type": "code",
   "execution_count": null,
   "metadata": {},
   "outputs": [],
   "source": [
    "# Save the result\n",
    "\n",
    "#these arrays can be saved with same georeference as input DSM. Here we are saving the building height nDSM into nDSMpath\n",
    "#get aLL ttributes of thwe source\n",
    "src = rio.open(DSMpath)\n",
    "# context manager.\n",
    "with rio.Env():\n",
    "\t# Write the product as a raster band to a new 8-bit file. For\n",
    "\t# the new file's profile, we start with the meta attributes of\n",
    "\t# the source file, but then change the band count to 1, set the\n",
    "\t# dtype to uint8, and specify LZW compression.\n",
    "\tprofile = src.profile\n",
    "\tprofile.update(\n",
    "\t\tdtype=rio.float32,\n",
    "\t\tcount=1,\n",
    "\t\tcompress='lzw')\n",
    "\n",
    "\twith rio.open(nDSMpath, 'w', **profile) as dst:\n",
    "\t\tdst.write(nDSMarr.astype(rio.float32), 1)\n",
    "\n",
    "print ('output saved')"
   ]
  }
 ],
 "metadata": {
  "kernelspec": {
   "display_name": "Python 3 (ipykernel)",
   "language": "python",
   "name": "python3"
  },
  "language_info": {
   "codemirror_mode": {
    "name": "ipython",
    "version": 3
   },
   "file_extension": ".py",
   "mimetype": "text/x-python",
   "name": "python",
   "nbconvert_exporter": "python",
   "pygments_lexer": "ipython3",
   "version": "3.9.7"
  }
 },
 "nbformat": 4,
 "nbformat_minor": 2
}
