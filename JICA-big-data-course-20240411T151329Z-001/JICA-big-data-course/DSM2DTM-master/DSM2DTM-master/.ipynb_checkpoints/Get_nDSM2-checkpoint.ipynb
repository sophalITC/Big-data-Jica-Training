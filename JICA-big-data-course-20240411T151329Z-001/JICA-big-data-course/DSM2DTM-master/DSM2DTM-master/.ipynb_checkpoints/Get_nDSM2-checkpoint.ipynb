{
 "cells": [
  {
   "cell_type": "code",
   "execution_count": 1,
   "metadata": {},
   "outputs": [
    {
     "ename": "ModuleNotFoundError",
     "evalue": "No module named 'scipy'",
     "output_type": "error",
     "traceback": [
      "\u001b[1;31m---------------------------------------------------------------------------\u001b[0m",
      "\u001b[1;31mModuleNotFoundError\u001b[0m                       Traceback (most recent call last)",
      "Input \u001b[1;32mIn [1]\u001b[0m, in \u001b[0;36m<module>\u001b[1;34m\u001b[0m\n\u001b[0;32m      7\u001b[0m \u001b[38;5;28;01mimport\u001b[39;00m \u001b[38;5;21;01mmath\u001b[39;00m \u001b[38;5;28;01mas\u001b[39;00m \u001b[38;5;21;01mmath\u001b[39;00m\n\u001b[0;32m      8\u001b[0m \u001b[38;5;28;01mfrom\u001b[39;00m \u001b[38;5;21;01mmatplotlib\u001b[39;00m \u001b[38;5;28;01mimport\u001b[39;00m pyplot \u001b[38;5;28;01mas\u001b[39;00m plt\n\u001b[1;32m----> 9\u001b[0m \u001b[38;5;28;01mfrom\u001b[39;00m \u001b[38;5;21;01mscipy\u001b[39;00m\u001b[38;5;21;01m.\u001b[39;00m\u001b[38;5;21;01minterpolate\u001b[39;00m \u001b[38;5;28;01mimport\u001b[39;00m griddata\n\u001b[0;32m     10\u001b[0m \u001b[38;5;28;01mimport\u001b[39;00m \u001b[38;5;21;01mcv2\u001b[39;00m \u001b[38;5;28;01mas\u001b[39;00m \u001b[38;5;21;01mcv\u001b[39;00m\n\u001b[0;32m     12\u001b[0m \u001b[38;5;66;03m# import library for reading raster images\u001b[39;00m\n",
      "\u001b[1;31mModuleNotFoundError\u001b[0m: No module named 'scipy'"
     ]
    }
   ],
   "source": [
    "# this is an example of how to obtain normalizedDSM (nDSM) and DTM from DSM using the classDSM.py\n",
    "\n",
    "\n",
    "\n",
    "# regular libraries\n",
    "import numpy as np\n",
    "import math as math\n",
    "from matplotlib import pyplot as plt\n",
    "from scipy.interpolate import griddata\n",
    "import cv2 as cv\n",
    "\n",
    "# import library for reading raster images\n",
    "import rasterio as rio\n",
    "\n",
    "\n",
    "\n"
   ]
  },
  {
   "cell_type": "code",
   "execution_count": 2,
   "metadata": {},
   "outputs": [],
   "source": [
    "\n",
    "'''\n",
    " Following parameters can be set.\n",
    " \n",
    "        inputDSMpath = \"folder/inputfile.tif\"\n",
    "        outputnDSMpath = \"folder/outputfile.tif\"\n",
    "\n",
    "\n",
    "        # parameters/ thresholds\n",
    "        img_resolution = 30 # resolution in metres of a pixel\n",
    "        neighborhood_kernel = 300  # Extent of neighbors in metres: for 10m _ 200; for 30m - 3000\n",
    "\n",
    "        height_threshold = 3  # meter\n",
    "        slope_threshold = 30  # degrees using 30 degress for 30m as difficult to identify ground terrain otherwise\n",
    "\n",
    "        # 8 directions\n",
    "        obj.scanlines = [[-1, -1], [-1, 0], [-1, 1], [0, 1], [1, 1], [1, 0], [1, -1], [0, -1]]\n",
    "        obj.scannum = [0, 1, 2, 3, 4, 5, 6, 7]  # keyname for scanlines\n",
    "\n",
    "#ALthough the default parameters set have been tested in Yangon, they can be further refined else the used as it is.\n",
    "'''\n",
    "\n",
    "# Specify the parameters\n",
    "\n",
    "inputDSMpath = r\"Yangon_inner_AW3D_30m.tif\"\n",
    "outputnDSMpath = r\"Yangon_inner_AW3D_30moutput.tif\"\n",
    "img_resolution = 30\n",
    "neighborhood_kernel = 300\n",
    "height_threshold = 3\n",
    "slope_threshold = 30"
   ]
  },
  {
   "cell_type": "code",
   "execution_count": 3,
   "metadata": {},
   "outputs": [
    {
     "ename": "ModuleNotFoundError",
     "evalue": "No module named 'scipy'",
     "output_type": "error",
     "traceback": [
      "\u001b[1;31m---------------------------------------------------------------------------\u001b[0m",
      "\u001b[1;31mModuleNotFoundError\u001b[0m                       Traceback (most recent call last)",
      "Input \u001b[1;32mIn [3]\u001b[0m, in \u001b[0;36m<module>\u001b[1;34m\u001b[0m\n\u001b[0;32m      1\u001b[0m \u001b[38;5;66;03m# the real code is abstracted within classDSM_v2_20180705\u001b[39;00m\n\u001b[0;32m      2\u001b[0m \u001b[38;5;66;03m# ----------------------------------------------------------------------------------------------------\u001b[39;00m\n\u001b[0;32m      3\u001b[0m \n\u001b[0;32m      4\u001b[0m \n\u001b[0;32m      5\u001b[0m \u001b[38;5;66;03m#improt the classDSM\u001b[39;00m\n\u001b[1;32m----> 6\u001b[0m \u001b[38;5;28;01mfrom\u001b[39;00m \u001b[38;5;21;01mclassDSM\u001b[39;00m \u001b[38;5;28;01mimport\u001b[39;00m DSMtrans \u001b[38;5;28;01mas\u001b[39;00m genDSM\n\u001b[0;32m      8\u001b[0m \u001b[38;5;66;03m# open the AW3D raster stored in DSMpath as an array DSMarr.\u001b[39;00m\n\u001b[0;32m      9\u001b[0m DSMpath \u001b[38;5;241m=\u001b[39m inputDSMpath\n",
      "File \u001b[1;32mG:\\My Drive\\geospatial_lab\\JICA-big-data-course\\DSM2DTM-master\\DSM2DTM-master\\classDSM.py:27\u001b[0m, in \u001b[0;36m<module>\u001b[1;34m\u001b[0m\n\u001b[0;32m     25\u001b[0m \u001b[38;5;28;01mimport\u001b[39;00m \u001b[38;5;21;01mmath\u001b[39;00m \u001b[38;5;28;01mas\u001b[39;00m \u001b[38;5;21;01mmath\u001b[39;00m\n\u001b[0;32m     26\u001b[0m \u001b[38;5;28;01mfrom\u001b[39;00m \u001b[38;5;21;01mmatplotlib\u001b[39;00m \u001b[38;5;28;01mimport\u001b[39;00m pyplot \u001b[38;5;28;01mas\u001b[39;00m plt\n\u001b[1;32m---> 27\u001b[0m \u001b[38;5;28;01mfrom\u001b[39;00m \u001b[38;5;21;01mscipy\u001b[39;00m\u001b[38;5;21;01m.\u001b[39;00m\u001b[38;5;21;01minterpolate\u001b[39;00m \u001b[38;5;28;01mimport\u001b[39;00m griddata\n\u001b[0;32m     28\u001b[0m \u001b[38;5;28;01mimport\u001b[39;00m \u001b[38;5;21;01mcv2\u001b[39;00m \u001b[38;5;28;01mas\u001b[39;00m \u001b[38;5;21;01mcv\u001b[39;00m\n\u001b[0;32m     31\u001b[0m \u001b[38;5;66;03m# pvt imports\u001b[39;00m\n\u001b[0;32m     32\u001b[0m \n\u001b[0;32m     33\u001b[0m \u001b[38;5;66;03m# * * *  * * # * * * *  * *# # * * * *  * * # * * * *  * * # * * *#    Step0: Initialize     * * *  * * # * * * *  * *# # * * * *  * * # * * * *  * * # * * * *  * *#\u001b[39;00m\n",
      "\u001b[1;31mModuleNotFoundError\u001b[0m: No module named 'scipy'"
     ]
    }
   ],
   "source": [
    "# the real code is abstracted within classDSM_v2_20180705\n",
    "# ----------------------------------------------------------------------------------------------------\n",
    "\n",
    "\n",
    "#improt the classDSM\n",
    "from classDSM import DSMtrans as genDSM\n",
    "\n",
    "# open the AW3D raster stored in DSMpath as an array DSMarr.\n",
    "DSMpath = inputDSMpath\n",
    "DSMarr = rio.open(DSMpath).read(1)\n",
    "\n",
    "#set the DSMarr as an object of genDSM\n",
    "obj1 = genDSM(DSMarr)\n",
    "obj1.resolution = int(img_resolution)\n",
    "obj1.Ext = int(neighborhood_kernel)\n",
    "obj1.dThrHeightDiff = int(height_threshold)\n",
    "obj1.dThrSlope  = int(slope_threshold)\n",
    "\n",
    "#set the outpath\n",
    "nDSMpath = outputnDSMpath\n",
    "\n",
    "# running the ground function generates the DTM and nDSM arrays\n",
    "(DEMarr, nDSMarr) = obj1.ground()"
   ]
  },
  {
   "cell_type": "code",
   "execution_count": 11,
   "metadata": {},
   "outputs": [
    {
     "name": "stdout",
     "output_type": "stream",
     "text": [
      "output saved\n"
     ]
    }
   ],
   "source": [
    "# Save the result\n",
    "\n",
    "#these arrays can be saved with same georeference as input DSM. Here we are saving the building height nDSM into nDSMpath\n",
    "#get aLL ttributes of thwe source\n",
    "src = rio.open(DSMpath)\n",
    "# context manager.\n",
    "with rio.Env():\n",
    "\t# Write the product as a raster band to a new 8-bit file. For\n",
    "\t# the new file's profile, we start with the meta attributes of\n",
    "\t# the source file, but then change the band count to 1, set the\n",
    "\t# dtype to uint8, and specify LZW compression.\n",
    "\tprofile = src.profile\n",
    "\tprofile.update(\n",
    "\t\tdtype=rio.float32,\n",
    "\t\tcount=1,\n",
    "\t\tcompress='lzw')\n",
    "\n",
    "\twith rio.open(nDSMpath, 'w', **profile) as dst:\n",
    "\t\tdst.write(nDSMarr.astype(rio.float32), 1)\n",
    "\n",
    "print ('output saved')"
   ]
  }
 ],
 "metadata": {
  "kernelspec": {
   "display_name": "Python 3 (ipykernel)",
   "language": "python",
   "name": "python3"
  },
  "language_info": {
   "codemirror_mode": {
    "name": "ipython",
    "version": 3
   },
   "file_extension": ".py",
   "mimetype": "text/x-python",
   "name": "python",
   "nbconvert_exporter": "python",
   "pygments_lexer": "ipython3",
   "version": "3.9.7"
  }
 },
 "nbformat": 4,
 "nbformat_minor": 2
}
